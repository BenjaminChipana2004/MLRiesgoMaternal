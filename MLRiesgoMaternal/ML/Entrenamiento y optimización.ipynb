{
 "cells": [
  {
   "cell_type": "code",
   "execution_count": 6,
   "id": "487329e9-ef87-46e9-8f15-f2bc86dae932",
   "metadata": {},
   "outputs": [],
   "source": [
    "#Importar librerías\n",
    "import pandas as pd\n",
    "import numpy as np\n",
    "import matplotlib.pyplot as plt"
   ]
  },
  {
   "cell_type": "code",
   "execution_count": 7,
   "id": "22522f69-df58-49c3-8197-a87a58c9ee33",
   "metadata": {},
   "outputs": [
    {
     "data": {
      "text/html": [
       "<div>\n",
       "<style scoped>\n",
       "    .dataframe tbody tr th:only-of-type {\n",
       "        vertical-align: middle;\n",
       "    }\n",
       "\n",
       "    .dataframe tbody tr th {\n",
       "        vertical-align: top;\n",
       "    }\n",
       "\n",
       "    .dataframe thead th {\n",
       "        text-align: right;\n",
       "    }\n",
       "</style>\n",
       "<table border=\"1\" class=\"dataframe\">\n",
       "  <thead>\n",
       "    <tr style=\"text-align: right;\">\n",
       "      <th></th>\n",
       "      <th>GENDER</th>\n",
       "      <th>AGE</th>\n",
       "      <th>SMOKING</th>\n",
       "      <th>YELLOW_FINGERS</th>\n",
       "      <th>ANXIETY</th>\n",
       "      <th>PEER_PRESSURE</th>\n",
       "      <th>CHRONIC DISEASE</th>\n",
       "      <th>FATIGUE</th>\n",
       "      <th>ALLERGY</th>\n",
       "      <th>WHEEZING</th>\n",
       "      <th>ALCOHOL CONSUMING</th>\n",
       "      <th>COUGHING</th>\n",
       "      <th>SHORTNESS OF BREATH</th>\n",
       "      <th>SWALLOWING DIFFICULTY</th>\n",
       "      <th>CHEST PAIN</th>\n",
       "      <th>LUNG_CANCER</th>\n",
       "    </tr>\n",
       "  </thead>\n",
       "  <tbody>\n",
       "    <tr>\n",
       "      <th>0</th>\n",
       "      <td>1</td>\n",
       "      <td>69</td>\n",
       "      <td>1</td>\n",
       "      <td>2</td>\n",
       "      <td>2</td>\n",
       "      <td>1</td>\n",
       "      <td>1</td>\n",
       "      <td>2</td>\n",
       "      <td>1</td>\n",
       "      <td>2</td>\n",
       "      <td>2</td>\n",
       "      <td>2</td>\n",
       "      <td>2</td>\n",
       "      <td>2</td>\n",
       "      <td>2</td>\n",
       "      <td>2</td>\n",
       "    </tr>\n",
       "    <tr>\n",
       "      <th>1</th>\n",
       "      <td>1</td>\n",
       "      <td>74</td>\n",
       "      <td>2</td>\n",
       "      <td>1</td>\n",
       "      <td>1</td>\n",
       "      <td>1</td>\n",
       "      <td>2</td>\n",
       "      <td>2</td>\n",
       "      <td>2</td>\n",
       "      <td>1</td>\n",
       "      <td>1</td>\n",
       "      <td>1</td>\n",
       "      <td>2</td>\n",
       "      <td>2</td>\n",
       "      <td>2</td>\n",
       "      <td>2</td>\n",
       "    </tr>\n",
       "    <tr>\n",
       "      <th>2</th>\n",
       "      <td>2</td>\n",
       "      <td>59</td>\n",
       "      <td>1</td>\n",
       "      <td>1</td>\n",
       "      <td>1</td>\n",
       "      <td>2</td>\n",
       "      <td>1</td>\n",
       "      <td>2</td>\n",
       "      <td>1</td>\n",
       "      <td>2</td>\n",
       "      <td>1</td>\n",
       "      <td>2</td>\n",
       "      <td>2</td>\n",
       "      <td>1</td>\n",
       "      <td>2</td>\n",
       "      <td>1</td>\n",
       "    </tr>\n",
       "    <tr>\n",
       "      <th>3</th>\n",
       "      <td>1</td>\n",
       "      <td>63</td>\n",
       "      <td>2</td>\n",
       "      <td>2</td>\n",
       "      <td>2</td>\n",
       "      <td>1</td>\n",
       "      <td>1</td>\n",
       "      <td>1</td>\n",
       "      <td>1</td>\n",
       "      <td>1</td>\n",
       "      <td>2</td>\n",
       "      <td>1</td>\n",
       "      <td>1</td>\n",
       "      <td>2</td>\n",
       "      <td>2</td>\n",
       "      <td>1</td>\n",
       "    </tr>\n",
       "    <tr>\n",
       "      <th>4</th>\n",
       "      <td>2</td>\n",
       "      <td>63</td>\n",
       "      <td>1</td>\n",
       "      <td>2</td>\n",
       "      <td>1</td>\n",
       "      <td>1</td>\n",
       "      <td>1</td>\n",
       "      <td>1</td>\n",
       "      <td>1</td>\n",
       "      <td>2</td>\n",
       "      <td>1</td>\n",
       "      <td>2</td>\n",
       "      <td>2</td>\n",
       "      <td>1</td>\n",
       "      <td>1</td>\n",
       "      <td>1</td>\n",
       "    </tr>\n",
       "  </tbody>\n",
       "</table>\n",
       "</div>"
      ],
      "text/plain": [
       "   GENDER  AGE  SMOKING  YELLOW_FINGERS  ANXIETY  PEER_PRESSURE  \\\n",
       "0       1   69        1               2        2              1   \n",
       "1       1   74        2               1        1              1   \n",
       "2       2   59        1               1        1              2   \n",
       "3       1   63        2               2        2              1   \n",
       "4       2   63        1               2        1              1   \n",
       "\n",
       "   CHRONIC DISEASE  FATIGUE   ALLERGY   WHEEZING  ALCOHOL CONSUMING  COUGHING  \\\n",
       "0                1         2         1         2                  2         2   \n",
       "1                2         2         2         1                  1         1   \n",
       "2                1         2         1         2                  1         2   \n",
       "3                1         1         1         1                  2         1   \n",
       "4                1         1         1         2                  1         2   \n",
       "\n",
       "   SHORTNESS OF BREATH  SWALLOWING DIFFICULTY  CHEST PAIN  LUNG_CANCER  \n",
       "0                    2                      2           2            2  \n",
       "1                    2                      2           2            2  \n",
       "2                    2                      1           2            1  \n",
       "3                    1                      2           2            1  \n",
       "4                    2                      1           1            1  "
      ]
     },
     "execution_count": 7,
     "metadata": {},
     "output_type": "execute_result"
    }
   ],
   "source": [
    "#Acceder al archivo CSV\n",
    "dataframe = pd.read_csv('CANCERLUNG.csv', sep = ';')\n",
    "dataframe.head()"
   ]
  },
  {
   "cell_type": "code",
   "execution_count": 5,
   "id": "2b82a9e7-b80e-4de5-965e-6090839dcb2d",
   "metadata": {},
   "outputs": [
    {
     "data": {
      "text/plain": [
       "Text(0.5, 1.0, 'Distribución de clases')"
      ]
     },
     "execution_count": 5,
     "metadata": {},
     "output_type": "execute_result"
    },
    {
     "data": {
      "image/png": "[encoded data removed]",
      "text/plain": [
       "<Figure size 200x250 with 1 Axes>"
      ]
     },
     "metadata": {},
     "output_type": "display_data"
    }
   ],
   "source": [
    "import seaborn as sb\n",
    "sb.catplot(x='LUNG_CANCER',hue='LUNG_CANCER',data=dataframe,kind=\"count\",height=2.5, aspect=0.8,palette={1:\"blue\",2:\"red\"},legend= False)\n",
    "plt.title(\"Distribución de clases\")"
   ]
  },
  {
   "cell_type": "code",
   "execution_count": 8,
   "id": "c9950bb8-17ed-49bd-8b5c-2cd441fe664e",
   "metadata": {},
   "outputs": [],
   "source": [
    "#Definir los valores para entrenar al algoritmo\n",
    "y=dataframe['LUNG_CANCER']\n",
    "x=dataframe.drop('LUNG_CANCER',axis=1)"
   ]
  },
  {
   "cell_type": "code",
   "execution_count": 9,
   "id": "841fe4d6-d078-47e2-a5f4-995d3fafe0cb",
   "metadata": {},
   "outputs": [],
   "source": [
    "#Entrenar el modelo con n_neighbors = 1\n",
    "from sklearn.model_selection import train_test_split\n",
    "x_train,x_test,y_train,y_test = train_test_split(x,y,test_size=0.3,random_state=30)\n",
    "\n",
    "from sklearn.neighbors import KNeighborsClassifier\n",
    "knn_mm = KNeighborsClassifier(n_neighbors=1)\n",
    "\n",
    "knn_mm.fit(x_train,y_train)\n",
    "\n",
    "predicciones=knn_mm.predict(x_test)"
   ]
  },
  {
   "cell_type": "code",
   "execution_count": 13,
   "id": "e95785f0-8d22-4bfa-b712-f6b0f964485e",
   "metadata": {},
   "outputs": [
    {
     "name": "stdout",
     "output_type": "stream",
     "text": [
      "              precision    recall  f1-score   support\n",
      "\n",
      "           1       1.00      0.95      0.97       115\n",
      "           2       1.00      1.00      1.00      1222\n",
      "\n",
      "    accuracy                           1.00      1337\n",
      "   macro avg       1.00      0.97      0.99      1337\n",
      "weighted avg       1.00      1.00      1.00      1337\n",
      "\n"
     ]
    },
    {
     "data": {
      "image/png": "[encoded data removed]",
      "text/plain": [
       "<Figure size 640x480 with 2 Axes>"
      ]
     },
     "metadata": {},
     "output_type": "display_data"
    }
   ],
   "source": [
    "# Graficar la matriz de confusión e imprimir el reporte de clasificación para el análisis\n",
    "import seaborn as sns\n",
    "from sklearn.metrics import classification_report, confusion_matrix\n",
    "tn, fp, fn, tp = confusion_matrix(y_test,predicciones).ravel()\n",
    "\n",
    "sns.heatmap(confusion_matrix(y_test,predicciones), annot=True,fmt=\"d\")\n",
    "plt.title(\"Matriz de confusión\")\n",
    "plt.xlabel('Prediccion')\n",
    "plt.ylabel('Real')\n",
    "\n",
    "print(classification_report(y_test,predicciones))"
   ]
  },
  {
   "cell_type": "code",
   "execution_count": 14,
   "id": "86b0fe89-4ee8-4565-9957-f9c7d64e1b08",
   "metadata": {},
   "outputs": [
    {
     "data": {
      "text/plain": [
       "[<matplotlib.lines.Line2D at 0x1db60bb8890>]"
      ]
     },
     "execution_count": 14,
     "metadata": {},
     "output_type": "execute_result"
    },
    {
     "data": {
      "image/png": "[encoded data removed]",
      "text/plain": [
       "<Figure size 640x480 with 1 Axes>"
      ]
     },
     "metadata": {},
     "output_type": "display_data"
    }
   ],
   "source": [
    "#Analizar tasa de error en distintos valores de n_neighbors\n",
    "tasa_error = []\n",
    "for i in range(1,25):\n",
    "    knn_mm =KNeighborsClassifier(n_neighbors=i)\n",
    "    knn_mm.fit(x_train,y_train)\n",
    "    prediccion_i=knn_mm.predict(x_test)\n",
    "    tasa_error.append(np.mean(prediccion_i != y_test))\n",
    "\n",
    "valores = range(1,25)\n",
    "plt.plot(valores,tasa_error,color='green',marker='o', markerfacecolor='red',markersize='8')"
   ]
  },
  {
   "cell_type": "code",
   "execution_count": 10,
   "id": "620a7c5b-c5d8-4858-b968-c8c2b2458592",
   "metadata": {},
   "outputs": [],
   "source": [
    "# Entrenamos el modelo con el n_neighbors óptimo\n",
    "knn_mm = KNeighborsClassifier(n_neighbors=2)\n",
    "knn_mm.fit(x_train,y_train)\n",
    "predicciones=knn_mm.predict(x_test)"
   ]
  },
  {
   "cell_type": "code",
   "execution_count": 16,
   "id": "1c90a19e-c72e-41f4-9ec8-dec8ff13464a",
   "metadata": {},
   "outputs": [
    {
     "name": "stdout",
     "output_type": "stream",
     "text": [
      "              precision    recall  f1-score   support\n",
      "\n",
      "     Benigno       0.97      1.00      0.98       115\n",
      "     Maligno       1.00      1.00      1.00      1222\n",
      "\n",
      "    accuracy                           1.00      1337\n",
      "   macro avg       0.98      1.00      0.99      1337\n",
      "weighted avg       1.00      1.00      1.00      1337\n",
      "\n"
     ]
    },
    {
     "data": {
      "image/png": "[encoded data removed]",
      "text/plain": [
       "<Figure size 640x480 with 2 Axes>"
      ]
     },
     "metadata": {},
     "output_type": "display_data"
    }
   ],
   "source": [
    "# Volver a graficar la matriz e imprimir el reporte para comprobar su precisión\n",
    "sns.heatmap(confusion_matrix(y_test,predicciones), annot=True,fmt=\"d\")\n",
    "plt.title(\"Matriz de confusión\")\n",
    "plt.xlabel('Prediccion')\n",
    "plt.ylabel('Real')\n",
    "\n",
    "print(classification_report(y_test,predicciones,target_names=['Benigno','Maligno']))"
   ]
  },
  {
   "cell_type": "code",
   "execution_count": 12,
   "id": "b0864d85-dd85-45d5-a904-a2e23f225d3b",
   "metadata": {},
   "outputs": [
    {
     "name": "stdout",
     "output_type": "stream",
     "text": [
      "[2]\n",
      "[[0. 1.]]\n",
      "[1]\n",
      "[[1. 0.]]\n",
      "[1]\n",
      "[[1. 0.]]\n",
      "[2]\n",
      "[[0. 1.]]\n"
     ]
    },
    {
     "name": "stderr",
     "output_type": "stream",
     "text": [
      "C:\\Users\\Alumno\\anaconda3\\Lib\\site-packages\\sklearn\\base.py:493: UserWarning: X does not have valid feature names, but KNeighborsClassifier was fitted with feature names\n",
      "  warnings.warn(\n",
      "C:\\Users\\Alumno\\anaconda3\\Lib\\site-packages\\sklearn\\base.py:493: UserWarning: X does not have valid feature names, but KNeighborsClassifier was fitted with feature names\n",
      "  warnings.warn(\n",
      "C:\\Users\\Alumno\\anaconda3\\Lib\\site-packages\\sklearn\\base.py:493: UserWarning: X does not have valid feature names, but KNeighborsClassifier was fitted with feature names\n",
      "  warnings.warn(\n",
      "C:\\Users\\Alumno\\anaconda3\\Lib\\site-packages\\sklearn\\base.py:493: UserWarning: X does not have valid feature names, but KNeighborsClassifier was fitted with feature names\n",
      "  warnings.warn(\n",
      "C:\\Users\\Alumno\\anaconda3\\Lib\\site-packages\\sklearn\\base.py:493: UserWarning: X does not have valid feature names, but KNeighborsClassifier was fitted with feature names\n",
      "  warnings.warn(\n",
      "C:\\Users\\Alumno\\anaconda3\\Lib\\site-packages\\sklearn\\base.py:493: UserWarning: X does not have valid feature names, but KNeighborsClassifier was fitted with feature names\n",
      "  warnings.warn(\n",
      "C:\\Users\\Alumno\\anaconda3\\Lib\\site-packages\\sklearn\\base.py:493: UserWarning: X does not have valid feature names, but KNeighborsClassifier was fitted with feature names\n",
      "  warnings.warn(\n",
      "C:\\Users\\Alumno\\anaconda3\\Lib\\site-packages\\sklearn\\base.py:493: UserWarning: X does not have valid feature names, but KNeighborsClassifier was fitted with feature names\n",
      "  warnings.warn(\n"
     ]
    }
   ],
   "source": [
    "print(knn_mm.predict([[1,69,1,2,2,1,1,2,1,2,2,2,2,2,2]]))\n",
    "print(knn_mm.predict_proba([[1,69,1,2,2,1,1,2,1,2,2,2,2,2,2]]))\n",
    "print(knn_mm.predict([[2,59,1,1,1,2,1,2,1,2,1,2,2,1,2]]))\n",
    "print(knn_mm.predict_proba([[2,59,1,1,1,2,1,2,1,2,1,2,2,1,2]]))\n",
    "print(knn_mm.predict([[2,63,1,2,1,1,1,1,1,2,1,2,2,1,1]]))\n",
    "print(knn_mm.predict_proba([[2,63,1,2,1,1,1,1,1,2,1,2,2,1,1]]))\n",
    "print(knn_mm.predict([[1,74,2,1,1,1,2,2,2,1,1,1,2,2,2]]))\n",
    "print(knn_mm.predict_proba([[1,74,2,1,1,1,2,2,2,1,1,1,2,2,2]]))"
   ]
  }
 ],
 "metadata": {
  "kernelspec": {
   "display_name": "Python 3 (ipykernel)",
   "language": "python",
   "name": "python3"
  },
  "language_info": {
   "codemirror_mode": {
    "name": "ipython",
    "version": 3
   },
   "file_extension": ".py",
   "mimetype": "text/x-python",
   "name": "python",
   "nbconvert_exporter": "python",
   "pygments_lexer": "ipython3",
   "version": "3.12.7"
  }
 },
 "nbformat": 4,
 "nbformat_minor": 5
}
