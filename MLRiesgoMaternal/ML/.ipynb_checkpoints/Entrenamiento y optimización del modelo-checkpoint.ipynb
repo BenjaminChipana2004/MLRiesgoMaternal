{
 "cells": [
  {
   "cell_type": "code",
   "execution_count": 90,
   "id": "d817d3f2-8025-4d4d-a1d7-6b7171cc3a6c",
   "metadata": {},
   "outputs": [],
   "source": [
    "import pandas as pd\n",
    "import numpy as np\n",
    "import matplotlib.pyplot as plt"
   ]
  },
  {
   "cell_type": "code",
   "execution_count": 92,
   "id": "5af972a8-6354-4782-9c68-e5f0a16748c7",
   "metadata": {},
   "outputs": [
    {
     "data": {
      "text/html": [
       "<div>\n",
       "<style scoped>\n",
       "    .dataframe tbody tr th:only-of-type {\n",
       "        vertical-align: middle;\n",
       "    }\n",
       "\n",
       "    .dataframe tbody tr th {\n",
       "        vertical-align: top;\n",
       "    }\n",
       "\n",
       "    .dataframe thead th {\n",
       "        text-align: right;\n",
       "    }\n",
       "</style>\n",
       "<table border=\"1\" class=\"dataframe\">\n",
       "  <thead>\n",
       "    <tr style=\"text-align: right;\">\n",
       "      <th></th>\n",
       "      <th>Age</th>\n",
       "      <th>SystolicBP</th>\n",
       "      <th>DiastolicBP</th>\n",
       "      <th>BS</th>\n",
       "      <th>BodyTemp</th>\n",
       "      <th>HeartRate</th>\n",
       "      <th>RiskLevel</th>\n",
       "    </tr>\n",
       "  </thead>\n",
       "  <tbody>\n",
       "    <tr>\n",
       "      <th>0</th>\n",
       "      <td>25</td>\n",
       "      <td>130</td>\n",
       "      <td>80</td>\n",
       "      <td>15.0</td>\n",
       "      <td>98.0</td>\n",
       "      <td>86</td>\n",
       "      <td>high risk</td>\n",
       "    </tr>\n",
       "    <tr>\n",
       "      <th>1</th>\n",
       "      <td>35</td>\n",
       "      <td>140</td>\n",
       "      <td>90</td>\n",
       "      <td>13.0</td>\n",
       "      <td>98.0</td>\n",
       "      <td>70</td>\n",
       "      <td>high risk</td>\n",
       "    </tr>\n",
       "    <tr>\n",
       "      <th>2</th>\n",
       "      <td>29</td>\n",
       "      <td>90</td>\n",
       "      <td>70</td>\n",
       "      <td>8.0</td>\n",
       "      <td>100.0</td>\n",
       "      <td>80</td>\n",
       "      <td>high risk</td>\n",
       "    </tr>\n",
       "    <tr>\n",
       "      <th>3</th>\n",
       "      <td>30</td>\n",
       "      <td>140</td>\n",
       "      <td>85</td>\n",
       "      <td>7.0</td>\n",
       "      <td>98.0</td>\n",
       "      <td>70</td>\n",
       "      <td>high risk</td>\n",
       "    </tr>\n",
       "    <tr>\n",
       "      <th>4</th>\n",
       "      <td>35</td>\n",
       "      <td>120</td>\n",
       "      <td>60</td>\n",
       "      <td>6.1</td>\n",
       "      <td>98.0</td>\n",
       "      <td>76</td>\n",
       "      <td>low risk</td>\n",
       "    </tr>\n",
       "  </tbody>\n",
       "</table>\n",
       "</div>"
      ],
      "text/plain": [
       "   Age  SystolicBP  DiastolicBP    BS  BodyTemp  HeartRate  RiskLevel\n",
       "0   25         130           80  15.0      98.0         86  high risk\n",
       "1   35         140           90  13.0      98.0         70  high risk\n",
       "2   29          90           70   8.0     100.0         80  high risk\n",
       "3   30         140           85   7.0      98.0         70  high risk\n",
       "4   35         120           60   6.1      98.0         76   low risk"
      ]
     },
     "execution_count": 92,
     "metadata": {},
     "output_type": "execute_result"
    }
   ],
   "source": [
    "dataframe = pd.read_csv('Maternal Health Risk Data Set.csv')\n",
    "dataframe.head()"
   ]
  },
  {
   "cell_type": "code",
   "execution_count": 94,
   "id": "25162389-58b7-4822-acc7-796a9d275440",
   "metadata": {},
   "outputs": [
    {
     "name": "stdout",
     "output_type": "stream",
     "text": [
      "<class 'pandas.core.frame.DataFrame'>\n",
      "RangeIndex: 1014 entries, 0 to 1013\n",
      "Data columns (total 7 columns):\n",
      " #   Column       Non-Null Count  Dtype  \n",
      "---  ------       --------------  -----  \n",
      " 0   Age          1014 non-null   int64  \n",
      " 1   SystolicBP   1014 non-null   int64  \n",
      " 2   DiastolicBP  1014 non-null   int64  \n",
      " 3   BS           1014 non-null   float64\n",
      " 4   BodyTemp     1014 non-null   float64\n",
      " 5   HeartRate    1014 non-null   int64  \n",
      " 6   RiskLevel    1014 non-null   object \n",
      "dtypes: float64(2), int64(4), object(1)\n",
      "memory usage: 55.6+ KB\n"
     ]
    }
   ],
   "source": [
    "#Análisis de los datos\n",
    "dataframe.info()"
   ]
  },
  {
   "cell_type": "code",
   "execution_count": 96,
   "id": "2f893867-7bc8-4b13-978e-0072081e6402",
   "metadata": {},
   "outputs": [
    {
     "name": "stdout",
     "output_type": "stream",
     "text": [
      "\n",
      " Age\n",
      "10     4\n",
      "12    35\n",
      "13    12\n",
      "14     3\n",
      "15    60\n",
      "16    16\n",
      "17    63\n",
      "18    19\n",
      "19    67\n",
      "20    22\n",
      "21    38\n",
      "22    45\n",
      "23    71\n",
      "24     3\n",
      "25    48\n",
      "26     3\n",
      "27     9\n",
      "28    28\n",
      "29    40\n",
      "30    30\n",
      "31    22\n",
      "32    48\n",
      "33     5\n",
      "34     5\n",
      "35    50\n",
      "36     4\n",
      "37     6\n",
      "38     2\n",
      "39     4\n",
      "40    37\n",
      "41     1\n",
      "42    23\n",
      "43     5\n",
      "44     3\n",
      "45     9\n",
      "46     1\n",
      "48    26\n",
      "49     9\n",
      "50    43\n",
      "51     1\n",
      "54    12\n",
      "55    37\n",
      "56     1\n",
      "59     2\n",
      "60    34\n",
      "62     1\n",
      "63     2\n",
      "65     3\n",
      "66     1\n",
      "70     1\n",
      "dtype: int64\n",
      "\n",
      " SystolicBP\n",
      "70       7\n",
      "75       8\n",
      "76      16\n",
      "78       3\n",
      "80       5\n",
      "83       2\n",
      "85      43\n",
      "90     154\n",
      "95      12\n",
      "99       2\n",
      "100     92\n",
      "110     19\n",
      "115      8\n",
      "120    449\n",
      "129      1\n",
      "130     60\n",
      "135      3\n",
      "140    120\n",
      "160     10\n",
      "dtype: int64\n",
      "\n",
      " DiastolicBP\n",
      "49      25\n",
      "50      24\n",
      "60     174\n",
      "63       8\n",
      "65      87\n",
      "68       2\n",
      "69       1\n",
      "70     100\n",
      "75      38\n",
      "76       3\n",
      "80     226\n",
      "85      49\n",
      "89       1\n",
      "90     153\n",
      "95      36\n",
      "100     87\n",
      "dtype: int64\n",
      "\n",
      " BS\n",
      "6.00      21\n",
      "6.10      53\n",
      "6.30       2\n",
      "6.40      10\n",
      "6.50       1\n",
      "6.60       2\n",
      "6.70      33\n",
      "6.80      88\n",
      "6.90     113\n",
      "7.00      79\n",
      "7.01      15\n",
      "7.10       8\n",
      "7.20      20\n",
      "7.50     176\n",
      "7.60       1\n",
      "7.70      24\n",
      "7.80      45\n",
      "7.90      60\n",
      "8.00      22\n",
      "9.00      31\n",
      "10.00      4\n",
      "11.00     52\n",
      "12.00     18\n",
      "13.00      9\n",
      "15.00     54\n",
      "16.00     17\n",
      "17.00      5\n",
      "18.00     29\n",
      "19.00     22\n",
      "dtype: int64\n",
      "\n",
      " BodyTemp\n",
      "98.0     804\n",
      "98.4       2\n",
      "98.6       1\n",
      "99.0      10\n",
      "100.0     20\n",
      "101.0     98\n",
      "102.0     66\n",
      "103.0     13\n",
      "dtype: int64\n",
      "\n",
      " HeartRate\n",
      "7       2\n",
      "60     74\n",
      "65      5\n",
      "66     87\n",
      "67     12\n",
      "68      2\n",
      "70    271\n",
      "75     19\n",
      "76    131\n",
      "77     96\n",
      "78     46\n",
      "80    117\n",
      "82     19\n",
      "86     55\n",
      "88     59\n",
      "90     19\n",
      "dtype: int64\n",
      "\n",
      " RiskLevel\n",
      "high risk    272\n",
      "low risk     406\n",
      "mid risk     336\n",
      "dtype: int64\n"
     ]
    }
   ],
   "source": [
    "#Visualización de los datos\n",
    "columnasdf = dataframe.columns\n",
    "vardep = columnasdf[len(columnasdf)-1]\n",
    "for i in columnasdf:\n",
    "    print(\"\\n\",dataframe.groupby(i).size())"
   ]
  },
  {
   "cell_type": "code",
   "execution_count": 98,
   "id": "3e3a04f2-478e-4f34-874d-075964ba3fff",
   "metadata": {},
   "outputs": [],
   "source": [
    "categorias = {\"low risk\": 1, \"mid risk\": 2, \"high risk\": 3}\n",
    "\n",
    "x = dataframe.drop(vardep, axis=1)\n",
    "y = dataframe[vardep]\n",
    "y = y.map(categorias)"
   ]
  },
  {
   "cell_type": "code",
   "execution_count": 100,
   "id": "3934e9aa-0b90-48f2-ab67-510853f21db9",
   "metadata": {},
   "outputs": [
    {
     "name": "stdout",
     "output_type": "stream",
     "text": [
      "<class 'pandas.core.frame.DataFrame'>\n",
      "RangeIndex: 1014 entries, 0 to 1013\n",
      "Data columns (total 6 columns):\n",
      " #   Column       Non-Null Count  Dtype  \n",
      "---  ------       --------------  -----  \n",
      " 0   Age          1014 non-null   int64  \n",
      " 1   SystolicBP   1014 non-null   int64  \n",
      " 2   DiastolicBP  1014 non-null   int64  \n",
      " 3   BS           1014 non-null   float64\n",
      " 4   BodyTemp     1014 non-null   float64\n",
      " 5   HeartRate    1014 non-null   int64  \n",
      "dtypes: float64(2), int64(4)\n",
      "memory usage: 47.7 KB\n",
      "\n",
      " RiskLevel\n"
     ]
    },
    {
     "data": {
      "text/plain": [
       "0    3\n",
       "1    3\n",
       "2    3\n",
       "3    3\n",
       "4    1\n",
       "Name: RiskLevel, dtype: int64"
      ]
     },
     "execution_count": 100,
     "metadata": {},
     "output_type": "execute_result"
    }
   ],
   "source": [
    "x.info()\n",
    "print(\"\\n\",vardep)\n",
    "y.head()"
   ]
  },
  {
   "cell_type": "code",
   "execution_count": 102,
   "id": "891b7c4e-e2dc-4b46-9f10-01ffb76b68ff",
   "metadata": {},
   "outputs": [
    {
     "data": {
      "text/html": [
       "<div>\n",
       "<style scoped>\n",
       "    .dataframe tbody tr th:only-of-type {\n",
       "        vertical-align: middle;\n",
       "    }\n",
       "\n",
       "    .dataframe tbody tr th {\n",
       "        vertical-align: top;\n",
       "    }\n",
       "\n",
       "    .dataframe thead th {\n",
       "        text-align: right;\n",
       "    }\n",
       "</style>\n",
       "<table border=\"1\" class=\"dataframe\">\n",
       "  <thead>\n",
       "    <tr style=\"text-align: right;\">\n",
       "      <th></th>\n",
       "      <th>Age</th>\n",
       "      <th>SystolicBP</th>\n",
       "      <th>DiastolicBP</th>\n",
       "      <th>BS</th>\n",
       "      <th>BodyTemp</th>\n",
       "      <th>HeartRate</th>\n",
       "    </tr>\n",
       "  </thead>\n",
       "  <tbody>\n",
       "    <tr>\n",
       "      <th>0</th>\n",
       "      <td>25</td>\n",
       "      <td>130</td>\n",
       "      <td>80</td>\n",
       "      <td>15.0</td>\n",
       "      <td>98.0</td>\n",
       "      <td>86</td>\n",
       "    </tr>\n",
       "    <tr>\n",
       "      <th>1</th>\n",
       "      <td>35</td>\n",
       "      <td>140</td>\n",
       "      <td>90</td>\n",
       "      <td>13.0</td>\n",
       "      <td>98.0</td>\n",
       "      <td>70</td>\n",
       "    </tr>\n",
       "    <tr>\n",
       "      <th>2</th>\n",
       "      <td>29</td>\n",
       "      <td>90</td>\n",
       "      <td>70</td>\n",
       "      <td>8.0</td>\n",
       "      <td>100.0</td>\n",
       "      <td>80</td>\n",
       "    </tr>\n",
       "    <tr>\n",
       "      <th>3</th>\n",
       "      <td>30</td>\n",
       "      <td>140</td>\n",
       "      <td>85</td>\n",
       "      <td>7.0</td>\n",
       "      <td>98.0</td>\n",
       "      <td>70</td>\n",
       "    </tr>\n",
       "    <tr>\n",
       "      <th>4</th>\n",
       "      <td>35</td>\n",
       "      <td>120</td>\n",
       "      <td>60</td>\n",
       "      <td>6.1</td>\n",
       "      <td>98.0</td>\n",
       "      <td>76</td>\n",
       "    </tr>\n",
       "  </tbody>\n",
       "</table>\n",
       "</div>"
      ],
      "text/plain": [
       "   Age  SystolicBP  DiastolicBP    BS  BodyTemp  HeartRate\n",
       "0   25         130           80  15.0      98.0         86\n",
       "1   35         140           90  13.0      98.0         70\n",
       "2   29          90           70   8.0     100.0         80\n",
       "3   30         140           85   7.0      98.0         70\n",
       "4   35         120           60   6.1      98.0         76"
      ]
     },
     "execution_count": 102,
     "metadata": {},
     "output_type": "execute_result"
    }
   ],
   "source": [
    "x.head()"
   ]
  },
  {
   "cell_type": "code",
   "execution_count": 104,
   "id": "0dd47d04-7e9d-46c4-8606-50314e36f048",
   "metadata": {},
   "outputs": [
    {
     "name": "stdout",
     "output_type": "stream",
     "text": [
      "[[ 0.48215645  0.37098479  0.98947502  0.68073198 -0.48233538  1.69764907]\n",
      " [-0.96421091 -1.26070391 -1.17665648  0.07943633  2.46319249  1.44555289]\n",
      " [ 1.78388708  1.45877726  1.35049694  3.08591457 -0.48233538  0.3111201 ]\n",
      " ...\n",
      " [ 2.14547892  0.37098479  0.26743119 -0.37153541 -0.48233538  0.05902393]\n",
      " [-0.60261907 -0.71680768 -0.81563456 -0.58198889 -0.48233538  1.69764907]\n",
      " [-0.81957417  0.37098479  0.26743119 -0.52185932 -0.48233538 -0.57121651]]\n"
     ]
    }
   ],
   "source": [
    "#Variables de prueba y testeo\n",
    "from sklearn.model_selection import train_test_split\n",
    "x_train,x_test,y_train,y_test = train_test_split(x,y,test_size=0.3,random_state=30)\n",
    "\n",
    "from sklearn.preprocessing import StandardScaler\n",
    "scaler = StandardScaler()\n",
    "x_train_esc = scaler.fit_transform(x_train)\n",
    "x_test_esc = scaler.transform(x_test)\n",
    "\n",
    "print(x_train_esc)\n",
    "from sklearn.metrics import classification_report, confusion_matrix"
   ]
  },
  {
   "cell_type": "code",
   "execution_count": 106,
   "id": "14f79da3-5ba7-4609-ab0e-29e640759896",
   "metadata": {},
   "outputs": [
    {
     "name": "stdout",
     "output_type": "stream",
     "text": [
      "              precision    recall  f1-score   support\n",
      "\n",
      "    low risk       0.87      0.87      0.87       122\n",
      "    mid risk       0.77      0.80      0.78        98\n",
      "   high risk       0.94      0.91      0.92        85\n",
      "\n",
      "    accuracy                           0.86       305\n",
      "   macro avg       0.86      0.86      0.86       305\n",
      "weighted avg       0.86      0.86      0.86       305\n",
      "\n"
     ]
    }
   ],
   "source": [
    "#Prueba del modelo\n",
    "from sklearn.ensemble import RandomForestClassifier\n",
    "\n",
    "modeloRF = RandomForestClassifier(n_estimators=100, random_state=42)\n",
    "modeloRF.fit(x_train_esc, y_train)\n",
    "\n",
    "prediccionesRF=modeloRF.predict(x_test_esc)\n",
    "\n",
    "print(classification_report(y_test,prediccionesRF,target_names=list(categorias.keys())))"
   ]
  },
  {
   "cell_type": "code",
   "execution_count": 114,
   "id": "e6af0401-4aa5-4bd0-84ca-b2802408da48",
   "metadata": {},
   "outputs": [
    {
     "name": "stdout",
     "output_type": "stream",
     "text": [
      "Menor tasa de error:  0.14098360655737704 \n",
      "n_estimators:  56\n"
     ]
    },
    {
     "data": {
      "image/png": "[encoded data removed]",
      "text/plain": [
       "<Figure size 640x480 with 1 Axes>"
      ]
     },
     "metadata": {},
     "output_type": "display_data"
    }
   ],
   "source": [
    "#optimizacion del modelo\n",
    "tasa_error = []\n",
    "menor_RF = float(1)\n",
    "nes = 50\n",
    "for i in range(1,50):\n",
    "    modeloRF =RandomForestClassifier(n_estimators=50 + i, random_state=42)\n",
    "    modeloRF.fit(x_train_esc,y_train)\n",
    "    modeloRF_i=modeloRF.predict(x_test_esc)\n",
    "    error = np.mean(modeloRF_i != y_test)\n",
    "    tasa_error.append(error)\n",
    "\n",
    "    if error < menor_RF:\n",
    "        menor_RF = error\n",
    "        nes = 50 + i\n",
    "\n",
    "plt.plot(range(1,50),tasa_error,color='green',marker='o', markerfacecolor='red',markersize='8')\n",
    "print(\"Menor tasa de error: \", menor_RF, \"\\nn_estimators: \", nes)"
   ]
  },
  {
   "cell_type": "code",
   "execution_count": 115,
   "id": "5907cbc2-946e-4844-a29a-dca84a41d449",
   "metadata": {},
   "outputs": [
    {
     "name": "stdout",
     "output_type": "stream",
     "text": [
      "              precision    recall  f1-score   support\n",
      "\n",
      "    low risk       0.87      0.88      0.87       122\n",
      "    mid risk       0.78      0.80      0.79        98\n",
      "   high risk       0.94      0.91      0.92        85\n",
      "\n",
      "    accuracy                           0.86       305\n",
      "   macro avg       0.86      0.86      0.86       305\n",
      "weighted avg       0.86      0.86      0.86       305\n",
      "\n"
     ]
    }
   ],
   "source": [
    "#Revisión de precisión\n",
    "modeloRF = RandomForestClassifier(n_estimators=nes, random_state=42)\n",
    "modeloRF.fit(x_train_esc, y_train)\n",
    "\n",
    "prediccionesRF=modeloRF.predict(x_test_esc)\n",
    "\n",
    "print(classification_report(y_test,prediccionesRF,target_names=list(categorias.keys())))"
   ]
  },
  {
   "cell_type": "code",
   "execution_count": 118,
   "id": "73d0c783-d6af-4ac0-aec4-d6d46fb658f9",
   "metadata": {},
   "outputs": [
    {
     "name": "stdout",
     "output_type": "stream",
     "text": [
      "[3]\n",
      "[[0.01984127 0.17376374 0.80639499]]\n"
     ]
    }
   ],
   "source": [
    "#Prueba con datos reales\n",
    "datos_obesidad = np.array([[25, 130, 80, 15.0, 98.0, 86]])\n",
    "datos_obesidad_esc = scaler.transform(pd.DataFrame(datos_obesidad,columns=x.columns))\n",
    "print(modeloRF.predict(datos_obesidad_esc))\n",
    "print(modeloRF.predict_proba(datos_obesidad_esc))"
   ]
  }
 ],
 "metadata": {
  "kernelspec": {
   "display_name": "Python [conda env:base] *",
   "language": "python",
   "name": "conda-base-py"
  },
  "language_info": {
   "codemirror_mode": {
    "name": "ipython",
    "version": 3
   },
   "file_extension": ".py",
   "mimetype": "text/x-python",
   "name": "python",
   "nbconvert_exporter": "python",
   "pygments_lexer": "ipython3",
   "version": "3.12.7"
  }
 },
 "nbformat": 4,
 "nbformat_minor": 5
}
